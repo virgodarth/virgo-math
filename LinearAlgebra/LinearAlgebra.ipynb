{
 "cells": [
  {
   "cell_type": "markdown",
   "metadata": {},
   "source": [
    "# Set\n",
    "+ Tập hợp không có định nghĩa\n",
    "+ Hiểu một cách tổng quát thì nó là gồm nhiều đối tượng gôm lại thành một thể\n",
    "+ Ký hiệu:\n",
    "    + Các chữ cái in hoa. Ex: **A**, **B**, **C**, ...\n",
    "    + Chữ thường thể hiện một phầ tử trong tập hợp. Ex: $a_1, a_2 \\in A$; $b_1, b_2 \\in B$; ...\n",
    "+ Phép toán trên tập hợp:\n",
    "    + Union: $C = A \\cup B$ nếu $x \\in C$ thì $x \\in A$ hoặc $x \\in B$\n",
    "    + Intersect: $C = A \\cap B$ nếu $x \\in C$ thì $x \\in A$ và $x \\in B$\n",
    "    + Complements: $C = A \\setminus B$ nếu $x \\in C$ thì $x \\in A$ và $x \\notin B$\n",
    "+ Để biểu thị 1 tập hợp, người ta thường dùng biểu đồ Venn, là một đường cong khép kín"
   ]
  },
  {
   "cell_type": "code",
   "execution_count": 1,
   "metadata": {},
   "outputs": [
    {
     "data": {
      "text/plain": [
       "<Figure size 640x480 with 1 Axes>"
      ]
     },
     "metadata": {},
     "output_type": "display_data"
    }
   ],
   "source": [
    "import matplotlib.pyplot as plt\n",
    "from matplotlib_venn import venn2\n",
    "A = { 1, 2, 3, 4, 5, 6 }\n",
    "B = { 3, 5, 7, 9, 11 }\n",
    "v = venn2([A,B], ('A', 'B'))\n",
    "\n",
    "v.get_label_by_id('10').set_text(' ,'.join(map(str,A-B)))\n",
    "v.get_label_by_id('11').set_text(' ,'.join(map(str,A&B)))\n",
    "v.get_label_by_id('01').set_text(' ,'.join(map(str,B-A)))\n",
    "\n",
    "plt.show()"
   ]
  },
  {
   "cell_type": "markdown",
   "metadata": {},
   "source": [
    "# Mapping\n",
    "+ Ánh xạ là quy tắc đặt tương ứng 1 phần từ của tập hợp **A** thành một phần tử của tập hợp **B**\n",
    "+ Ký hiệu:\n",
    "    + $f: \\mathbb{R} \\to \\mathbb{R}$\n",
    "    + $g: \\mathbb{R^2} \\to \\mathbb{R}$\n",
    "    + $h: \\mathbb{R^n} \\to \\mathbb{R}$"
   ]
  },
  {
   "cell_type": "markdown",
   "metadata": {},
   "source": [
    "<img src='MapMath.png' width=200>"
   ]
  },
  {
   "cell_type": "markdown",
   "metadata": {},
   "source": [
    "# Scalar \n",
    "Scalar là một giá trị vô hương trong tập $\\mathbb{R}$"
   ]
  },
  {
   "cell_type": "markdown",
   "metadata": {},
   "source": [
    "# Vector\n",
    "+ Vector là một đoạn thẳng có hướng\n",
    "+ Ký hiệu: $\\overrightarrow{v}$, $\\overrightarrow{AB}$\n",
    "+ Các phép toán: Cho $\\overrightarrow{v}, \\overrightarrow{v} \\in \\mathbb{R^n}, \\overrightarrow{v} = (v_1, v_2, \\ldots, v_n), \\overrightarrow{u} = (u_1, u_2, \\ldots, u_n)$\n",
    "    + $\\overrightarrow{v} + \\overrightarrow{u} = (v_1+u_1, v_2+u_2, \\ldots, v_n+u_n)$\n",
    "    + $\\overrightarrow{v} \\overrightarrow{u} = v_1u_1 + v_2u_2 + \\ldots + v_nu_n$\n",
    "    + $a\\overrightarrow{v} = (av_1, av_2, \\ldots, av_n)$"
   ]
  },
  {
   "cell_type": "markdown",
   "metadata": {},
   "source": [
    "![fig](https://mathinsight.org/media/image/image/vector.png)"
   ]
  },
  {
   "cell_type": "markdown",
   "metadata": {},
   "source": [
    "## Chuẩn của vector\n",
    "Cho $u, v \\in \\mathbb{R^n}$.\n",
    "Gọi $\\| v\\|_p$ là chuẩn p của v.\n",
    "Khi đó:\n",
    "+ p=1: $\\|v\\| = \\sum{|v_i|}$\n",
    "+ p=2: $\\|v\\| = \\sqrt{\\sum{v_i}^2}$ (chuẩn Euclid)\n",
    "+ p>0: $\\|v\\| = (\\sum{|v_i|^p})^\\frac{1}{p}$\n",
    "+ $p \\rightarrow \\infty$: $\\|v\\| = max(v_i)$"
   ]
  },
  {
   "cell_type": "markdown",
   "metadata": {},
   "source": [
    "<a href='https://academo.org/demos/3d-surface-plotter/?expression=x*x%2By*y&xRange=-50%2C+50&yRange=-50%2C+50&resolution=100'>Visualize Norm</a>"
   ]
  },
  {
   "cell_type": "markdown",
   "metadata": {},
   "source": [
    "##### <a href='https://towardsdatascience.com/why-norms-matters-machine-learning-3f08120af429'>Áp dụng</a>\n",
    "    Determining the magnitude of a data point in multiple dimensions\n",
    "    Calculating the loss of a machine learning model\n",
    "    Computing the error of a predictive model\n",
    "    "
   ]
  },
  {
   "cell_type": "code",
   "execution_count": 3,
   "metadata": {},
   "outputs": [
    {
     "data": {
      "image/png": "[encoded data removed]",
      "text/plain": [
       "<Figure size 432x288 with 1 Axes>"
      ]
     },
     "metadata": {
      "needs_background": "light"
     },
     "output_type": "display_data"
    }
   ],
   "source": [
    "from matplotlib import pyplot as plt\n",
    "import seaborn as sns\n",
    "\n",
    "u = [0,0,1,6]\n",
    "v = [0,0,4,2]\n",
    "u_bis = [1,6,v[2],v[3]]\n",
    "w = [0,0,5,8]\n",
    "plt.quiver([u[0], u_bis[0], w[0]],\n",
    "           [u[1], u_bis[1], w[1]],\n",
    "           [u[2], u_bis[2], w[2]],\n",
    "           [u[3], u_bis[3], w[3]],\n",
    "           angles='xy', scale_units='xy', scale=1, color=sns.color_palette())\n",
    "# plt.rc('text', usetex=True)\n",
    "plt.xlim(-2, 6)\n",
    "plt.ylim(-2, 9)\n",
    "plt.axvline(x=0, color='grey')\n",
    "plt.axhline(y=0, color='grey')\n",
    "\n",
    "plt.text(-1, 3.5, r'$||\\vec{u}||$', color=sns.color_palette()[0], size=20)\n",
    "plt.text(2.5, 7.5, r'$||\\vec{v}||$', color=sns.color_palette()[1], size=20)\n",
    "plt.text(2, 2, r'$||\\vec{u}+\\vec{v}||$', color=sns.color_palette()[2], size=20)\n",
    "\n",
    "plt.show()\n",
    "plt.close()"
   ]
  },
  {
   "cell_type": "markdown",
   "metadata": {},
   "source": [
    "### Properties of Vector Addition\n",
    "1. Identity Property of Vector Addition:\n",
    "$u + 0 = u$\n",
    "2. Inverse Property of Vector Addition:\n",
    "$u + (-u) = u - u = 0$\n",
    "3. Reflective Property of Vector Addition:\n",
    "$u = u$\n",
    "4. Commutative Property of Vector Addition:\n",
    "$u + v = v + u$\n",
    "5. Associative Property of Vector Addition:\n",
    "$(u + v) + t = u + (v + t)$\n",
    "6. Transitive Property of Vector Addition:\n",
    "If $u = v$ and $v = t$, then $u = t$"
   ]
  },
  {
   "cell_type": "markdown",
   "metadata": {},
   "source": [
    "$u*v = \\sum u_iv_i$"
   ]
  },
  {
   "cell_type": "markdown",
   "metadata": {},
   "source": [
    "# Matrix\n",
    "## Giới thiệu\n",
    "Cho $\\mathbf{A}, \\mathbf{B}$ là 2 ma trận.\n",
    "\n",
    "Gọi $a_{ij} \\in \\mathbf{A}, b_{ij} \\in \\mathbf{B}$ là 2 phần tử hàng i, cột j của ma trận tương ứng.\n",
    "\n",
    "Không mất tính tổng quát\n",
    "+ $\\mathbf{A}, \\mathbf{B} \\in \\mathbb{R}^{n x m}$: $$\\mathbf{C} = \\mathbf{A} + \\mathbf{B} \\Leftrightarrow c_{ij}=a_{ij}+b_{ij}$$\n",
    "+ $\\mathbf{A} \\in \\mathbb{R}^{n x m}, \\mathbf{B} \\in \\mathbb{R}^{m x p}$: $$\\mathbf{C} = \\mathbf{A}.\\mathbf{B} \\Leftrightarrow c_{ij}=\\sum\\limits_{k=1}^{m}a_{ik}b_{kj}$$"
   ]
  },
  {
   "cell_type": "markdown",
   "metadata": {},
   "source": [
    "## Tính chất\n",
    "+ $A+B=B+A$\n",
    "+ $A(B+C)=AB+AC$\n",
    "+ $(A+B)C=AC+BC$\n",
    "+ $a(A+B)=aA+aB$\n",
    "+ $AB \\ne BA$ (*)"
   ]
  },
  {
   "cell_type": "markdown",
   "metadata": {},
   "source": [
    "### Phép tính trên matrix\n",
    "1. Ma trận chuyển vị $𝐴^𝑇$: \n",
    "được tạo thành do việc biến đổi dòng thành cột và cột thành dòng của ma trận\n",
    "$$(𝑎_{𝑖𝑗})^𝑇=𝑎_{𝑗𝑖}$$"
   ]
  },
  {
   "cell_type": "markdown",
   "metadata": {},
   "source": [
    "## Specials Matrices\n",
    "<a href='https://medium.com/@jonathan_hui/machine-learning-linear-algebra-special-matrices-c750cd742dfe'>More Detail</a>"
   ]
  },
  {
   "cell_type": "markdown",
   "metadata": {},
   "source": [
    "## Linear Matrix\n",
    "$$Ax = b$$\n",
    "<a href='http://www.ams.org/publicoutreach/feature-column/fcarc-svd'>Visualize</a>"
   ]
  },
  {
   "cell_type": "markdown",
   "metadata": {},
   "source": [
    "## Linear Combination\n",
    "https://www.geogebra.org/m/WShmQvQU"
   ]
  },
  {
   "cell_type": "markdown",
   "metadata": {},
   "source": [
    "## Eigenvalue and eigenvector\n",
    "$$Av=\\lambda v\\ (1)$$\n",
    "Trong đó: \n",
    "- $ v \\ne 0$ ừng với $\\lambda$"
   ]
  },
  {
   "cell_type": "markdown",
   "metadata": {},
   "source": [
    "**Cách tính trị riêng vector riêng**\n",
    "\n",
    "$Av = \\lambda v$\n",
    "\n",
    "$\\Leftrightarrow (A - \\lambda I)v = 0$\n",
    "\n",
    "$\\Leftrightarrow |A - \\lambda I| = 0\\ (2)$"
   ]
  },
  {
   "cell_type": "markdown",
   "metadata": {},
   "source": [
    "**Proof**: Chứng minh $|A - \\lambda I| = 0$ nếu (1) xảy ra\n",
    "\n",
    "Giả sử $|A - \\lambda I| \\ne 0$\n",
    "\n",
    "khi đó tồn tại ma trận khả nghịch $B = |A - \\lambda I|^{-1}$\n",
    "\n",
    "(2) $\\Leftrightarrow B(A - \\lambda I)v = B0$\n",
    "<br>\n",
    "$\\Leftrightarrow B(A - \\lambda I)v = 0$\n",
    "<br>\n",
    "$\\Leftrightarrow Iv = 0$\n",
    "<br>\n",
    "$\\Leftrightarrow v = 0$ (sai với điều kiện ban đâu => đpcm)"
   ]
  },
  {
   "cell_type": "markdown",
   "metadata": {},
   "source": [
    "# Eigendecomposition"
   ]
  },
  {
   "cell_type": "markdown",
   "metadata": {},
   "source": [
    "Chúng ta xem xét ví dụ về ma trận 2x2\n",
    "\n",
    "Giả sử ma trận A có 2 eigenvalues ($v_1, v_2$) và eigenvectors ($\\lambda_1, \\lambda_2$)\n",
    "\n",
    "$$Av_1=\\lambda_1v_1$$\n",
    "$$Av_2=\\lambda_2v_2$$"
   ]
  },
  {
   "cell_type": "markdown",
   "metadata": {},
   "source": [
    "Khi đó ta viết lại\n",
    "$$A(v_1, v_2) = (Av_1, Av_2) = (\\lambda_1v_1, \\lambda_2v_2) = (v_1, v_2)\n",
    "\\begin{pmatrix}\n",
    "  \\lambda_1 & 0 \\\\\n",
    "  0 & \\lambda_2\n",
    " \\end{pmatrix}$$"
   ]
  },
  {
   "cell_type": "markdown",
   "metadata": {},
   "source": [
    "Một cách tổng quát ta có\n",
    "$$AV = V\\Lambda$$"
   ]
  },
  {
   "cell_type": "markdown",
   "metadata": {},
   "source": [
    "Ma trận vuông $\\mathbf{A}$ được gọi là chéo hóa được (**diagonalizable**) nếu tồn tại ma trận $\\mathbf{P}$ khả nghịch sao cho\n",
    "$$\\mathbf{A} = \\mathbf{P}\\Lambda \\mathbf{P}^{-1}$$\n",
    "Trong đó $\\Lambda$ là ma trận đường chéo với các giá trị trên đường chéo chính $\\mathbf{A}$"
   ]
  },
  {
   "cell_type": "markdown",
   "metadata": {},
   "source": [
    "Lưu ý:\n",
    "    $$\\mathbf{A}^n = \\mathbf{P}\\Lambda^n \\mathbf{P}^{-1}$$"
   ]
  },
  {
   "cell_type": "markdown",
   "metadata": {},
   "source": [
    "## SVD - Singular Value Decomposition\n",
    "Cho ma trận $\\mathbf{A}_{mxn}$ là ma trận bất kỳ. Ta có:\n",
    "\n",
    "$$\\mathbf{A}\\quad =\\quad \\mathbf{U}\\quad\\mathbf{S}\\quad\\mathbf{V}^T(1)$$\n",
    "\n",
    "- Trong đó:\n",
    "<br>\n",
    "$\\mathbf{U},\\mathbf{V}$ là 2 ma trận trực giao\n",
    "<br>\n",
    "$\\mathbf{S}$ là 2 ma đường chéo"
   ]
  },
  {
   "cell_type": "markdown",
   "metadata": {},
   "source": [
    "Ta có $\\mathbf{A}^T = \\mathbf{V}\\mathbf{S}\\mathbf{U}^T$\n",
    "<br>\n",
    "\n",
    "Khi đó \n",
    "<br>\n",
    "1. $\\mathbf{A}\\mathbf{A}^T = \\mathbf{U}\\mathbf{S}^2\\mathbf{U}^T$\n",
    "$\\Leftrightarrow \\mathbf{A}\\mathbf{A}^T\\mathbf{U} = \\mathbf{U}\\mathbf{S}^2$\n",
    "2. $\\mathbf{A}\\mathbf{A}^T = \\mathbf{U}\\mathbf{S}^2\\mathbf{U}^T$\n",
    "$\\Leftrightarrow \\mathbf{A}\\mathbf{A}^T\\mathbf{V} = \\mathbf{V}\\mathbf{S}^2$"
   ]
  },
  {
   "cell_type": "markdown",
   "metadata": {},
   "source": [
    "$(1) \\Rightarrow \\mathbf{A}x = b $\n",
    "<br>\n",
    "    $\\Leftrightarrow \\mathbf{U}\\mathbf{S}\\mathbf{V}^Tx = b $\n",
    "<br>\n",
    "    $\\Leftrightarrow x = \\mathbf{V}\\mathbf{S}^{-1}\\mathbf{U}^Tb $"
   ]
  },
  {
   "cell_type": "markdown",
   "metadata": {},
   "source": [
    "The SVD decomposition can be recognized as a series of outer products of uᵢ and vᵢ.\n",
    "$$\\mathbf{A} = \\sum u_i\\sigma_i v_i^T$$"
   ]
  },
  {
   "cell_type": "markdown",
   "metadata": {},
   "source": [
    "<a href='https://alyssaq.github.io/2015/singular-value-decomposition-visualisation'>Visualize SVD</a>"
   ]
  },
  {
   "cell_type": "markdown",
   "metadata": {},
   "source": [
    "![fig](https://miro.medium.com/proxy/1*mi80-4khR9EYTC6c1gpaPg.jpeg)"
   ]
  },
  {
   "cell_type": "markdown",
   "metadata": {},
   "source": [
    "**Tài liệu tham khảo**\n",
    "1. <a href='https://medium.com/@jonathan_hui/machine-learning-singular-value-decomposition-svd-principal-component-analysis-pca-1d45e885e491'>Đọc thêm về SVD</a>\n",
    "2. <a href='https://www.cs.princeton.edu/courses/archive/spring12/cos598C/svdchapter.pdf'>Lý thuyết toán SVD</a>\n",
    "3. <a href='https://hadrienj.github.io/posts/Deep-Learning-Book-Series-2.8-Singular-Value-Decomposition/'>Visualize</a>"
   ]
  },
  {
   "cell_type": "markdown",
   "metadata": {},
   "source": [
    "**Ứng dụng SVD**\n",
    "1. <a href='https://www.analyticsvidhya.com/blog/2019/08/5-applications-singular-value-decomposition-svd-data-science/'>Master Dimensionality Reduction with these 5 Must-Know Applications of Singular Value Decomposition (SVD) in Data Science</a>\n",
    "2. <a href='https://www.analyticsvidhya.com/blog/2019/07/10-applications-linear-algebra-data-science/?utm_source=blog&utm_medium=5-applications-singular-value-decomposition-svd-data-science'>10 Powerful Applications of Linear Algebra in Data Science (with Multiple Resources)</a>\n",
    "3. <a href='https://www.analyticsvidhya.com/blog/2018/08/dimensionality-reduction-techniques-python/?utm_source=blog&utm_medium=10-applications-linear-algebra-data-science'>The Ultimate Guide to 12 Dimensionality Reduction Techniques (with Python codes)</a>"
   ]
  },
  {
   "cell_type": "markdown",
   "metadata": {},
   "source": [
    "## Principal Component Analys - PCA"
   ]
  },
  {
   "cell_type": "markdown",
   "metadata": {},
   "source": [
    "<a href='https://github.com/hadrienj/deepLearningBook-Notes/blob/master/2.12%20Example%20-%20Principal%20Components%20Analysis/2.12%20Example%20-%20Principal%20Components%20Analysis.ipynb'>PCA Document</a>"
   ]
  }
 ],
 "metadata": {
  "kernelspec": {
   "display_name": "Python 3",
   "language": "python",
   "name": "python3"
  },
  "language_info": {
   "codemirror_mode": {
    "name": "ipython",
    "version": 3
   },
   "file_extension": ".py",
   "mimetype": "text/x-python",
   "name": "python",
   "nbconvert_exporter": "python",
   "pygments_lexer": "ipython3",
   "version": "3.7.3"
  }
 },
 "nbformat": 4,
 "nbformat_minor": 2
}
